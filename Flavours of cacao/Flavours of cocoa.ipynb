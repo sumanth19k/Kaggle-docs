{
 "cells": [
  {
   "cell_type": "code",
   "execution_count": 1,
   "id": "b89b1d27",
   "metadata": {},
   "outputs": [],
   "source": [
    "import pandas as pd\n",
    "import numpy as np\n",
    "import matplotlib.pyplot as plt\n",
    "import seaborn as sns"
   ]
  },
  {
   "cell_type": "code",
   "execution_count": 15,
   "id": "8ee7d4e8",
   "metadata": {},
   "outputs": [
    {
     "data": {
      "text/html": [
       "<div>\n",
       "<style scoped>\n",
       "    .dataframe tbody tr th:only-of-type {\n",
       "        vertical-align: middle;\n",
       "    }\n",
       "\n",
       "    .dataframe tbody tr th {\n",
       "        vertical-align: top;\n",
       "    }\n",
       "\n",
       "    .dataframe thead th {\n",
       "        text-align: right;\n",
       "    }\n",
       "</style>\n",
       "<table border=\"1\" class=\"dataframe\">\n",
       "  <thead>\n",
       "    <tr style=\"text-align: right;\">\n",
       "      <th></th>\n",
       "      <th>Company</th>\n",
       "      <th>BarName</th>\n",
       "      <th>REF</th>\n",
       "      <th>ReviewDate</th>\n",
       "      <th>CocoaPercent</th>\n",
       "      <th>companylocation</th>\n",
       "      <th>Rating</th>\n",
       "      <th>BeanType</th>\n",
       "      <th>BroadBeanOrigin</th>\n",
       "    </tr>\n",
       "  </thead>\n",
       "  <tbody>\n",
       "    <tr>\n",
       "      <th>0</th>\n",
       "      <td>A. Morin</td>\n",
       "      <td>Agua Grande</td>\n",
       "      <td>1876</td>\n",
       "      <td>2016</td>\n",
       "      <td>63%</td>\n",
       "      <td>France</td>\n",
       "      <td>3.75</td>\n",
       "      <td></td>\n",
       "      <td>Sao Tome</td>\n",
       "    </tr>\n",
       "    <tr>\n",
       "      <th>1</th>\n",
       "      <td>A. Morin</td>\n",
       "      <td>Kpime</td>\n",
       "      <td>1676</td>\n",
       "      <td>2015</td>\n",
       "      <td>70%</td>\n",
       "      <td>France</td>\n",
       "      <td>2.75</td>\n",
       "      <td></td>\n",
       "      <td>Togo</td>\n",
       "    </tr>\n",
       "    <tr>\n",
       "      <th>2</th>\n",
       "      <td>A. Morin</td>\n",
       "      <td>Atsane</td>\n",
       "      <td>1676</td>\n",
       "      <td>2015</td>\n",
       "      <td>70%</td>\n",
       "      <td>France</td>\n",
       "      <td>3.00</td>\n",
       "      <td></td>\n",
       "      <td>Togo</td>\n",
       "    </tr>\n",
       "    <tr>\n",
       "      <th>3</th>\n",
       "      <td>A. Morin</td>\n",
       "      <td>Akata</td>\n",
       "      <td>1680</td>\n",
       "      <td>2015</td>\n",
       "      <td>70%</td>\n",
       "      <td>France</td>\n",
       "      <td>3.50</td>\n",
       "      <td></td>\n",
       "      <td>Togo</td>\n",
       "    </tr>\n",
       "    <tr>\n",
       "      <th>4</th>\n",
       "      <td>A. Morin</td>\n",
       "      <td>Quilla</td>\n",
       "      <td>1704</td>\n",
       "      <td>2015</td>\n",
       "      <td>70%</td>\n",
       "      <td>France</td>\n",
       "      <td>3.50</td>\n",
       "      <td></td>\n",
       "      <td>Peru</td>\n",
       "    </tr>\n",
       "  </tbody>\n",
       "</table>\n",
       "</div>"
      ],
      "text/plain": [
       "    Company      BarName   REF  ReviewDate CocoaPercent companylocation  \\\n",
       "0  A. Morin  Agua Grande  1876        2016          63%          France   \n",
       "1  A. Morin        Kpime  1676        2015          70%          France   \n",
       "2  A. Morin       Atsane  1676        2015          70%          France   \n",
       "3  A. Morin        Akata  1680        2015          70%          France   \n",
       "4  A. Morin       Quilla  1704        2015          70%          France   \n",
       "\n",
       "   Rating BeanType BroadBeanOrigin  \n",
       "0    3.75                 Sao Tome  \n",
       "1    2.75                     Togo  \n",
       "2    3.00                     Togo  \n",
       "3    3.50                     Togo  \n",
       "4    3.50                     Peru  "
      ]
     },
     "execution_count": 15,
     "metadata": {},
     "output_type": "execute_result"
    }
   ],
   "source": [
    "df = pd.read_csv('flavors_of_cacao.csv')\n",
    "\n",
    "df.head()"
   ]
  },
  {
   "cell_type": "code",
   "execution_count": 17,
   "id": "65092ed2",
   "metadata": {},
   "outputs": [],
   "source": [
    "df.columns = [x.lower() for x in df.columns]"
   ]
  },
  {
   "cell_type": "code",
   "execution_count": 48,
   "id": "d4103044",
   "metadata": {},
   "outputs": [
    {
     "data": {
      "text/plain": [
       "(1795, 9)"
      ]
     },
     "execution_count": 48,
     "metadata": {},
     "output_type": "execute_result"
    }
   ],
   "source": [
    "df.shape"
   ]
  },
  {
   "cell_type": "code",
   "execution_count": 21,
   "id": "5e631741",
   "metadata": {},
   "outputs": [
    {
     "name": "stdout",
     "output_type": "stream",
     "text": [
      "<class 'pandas.core.frame.DataFrame'>\n",
      "RangeIndex: 1795 entries, 0 to 1794\n",
      "Data columns (total 9 columns):\n",
      " #   Column           Non-Null Count  Dtype  \n",
      "---  ------           --------------  -----  \n",
      " 0   company          1795 non-null   object \n",
      " 1   barname          1795 non-null   object \n",
      " 2   ref              1795 non-null   int64  \n",
      " 3   reviewdate       1795 non-null   int64  \n",
      " 4   cocoapercent     1795 non-null   object \n",
      " 5   companylocation  1795 non-null   object \n",
      " 6   rating           1795 non-null   float64\n",
      " 7   beantype         1794 non-null   object \n",
      " 8   broadbeanorigin  1794 non-null   object \n",
      "dtypes: float64(1), int64(2), object(6)\n",
      "memory usage: 126.3+ KB\n"
     ]
    }
   ],
   "source": [
    "df.info()"
   ]
  },
  {
   "cell_type": "markdown",
   "id": "75bd8025",
   "metadata": {},
   "source": [
    "# Top companies"
   ]
  },
  {
   "cell_type": "code",
   "execution_count": 25,
   "id": "9b6abe1f",
   "metadata": {},
   "outputs": [
    {
     "data": {
      "text/plain": [
       "Soma        47\n",
       "Bonnat      27\n",
       "Fresco      26\n",
       "Pralus      25\n",
       "A. Morin    23\n",
       "Name: company, dtype: int64"
      ]
     },
     "execution_count": 25,
     "metadata": {},
     "output_type": "execute_result"
    }
   ],
   "source": [
    "df['company'].value_counts().head()"
   ]
  },
  {
   "cell_type": "code",
   "execution_count": 26,
   "id": "afa6447e",
   "metadata": {},
   "outputs": [
    {
     "data": {
      "text/plain": [
       "416"
      ]
     },
     "execution_count": 26,
     "metadata": {},
     "output_type": "execute_result"
    }
   ],
   "source": [
    "df['company'].nunique()"
   ]
  },
  {
   "cell_type": "code",
   "execution_count": 39,
   "id": "319eb03a",
   "metadata": {},
   "outputs": [
    {
     "data": {
      "text/plain": [
       "company\n",
       "Tobago Estate (Pralus)                  4.000000\n",
       "Heirloom Cacao Preservation (Zokoko)    3.875000\n",
       "Ocelot                                  3.875000\n",
       "Amedei                                  3.846154\n",
       "Matale                                  3.812500\n",
       "Name: rating, dtype: float64"
      ]
     },
     "execution_count": 39,
     "metadata": {},
     "output_type": "execute_result"
    }
   ],
   "source": [
    "# with highest average rating\n",
    "\n",
    "df.groupby('company').mean()['rating'].sort_values(ascending=False).head()"
   ]
  },
  {
   "cell_type": "markdown",
   "id": "ddf692e2",
   "metadata": {},
   "source": [
    "# Cocoa percent analysis"
   ]
  },
  {
   "cell_type": "code",
   "execution_count": null,
   "id": "645603d0",
   "metadata": {},
   "outputs": [],
   "source": [
    "# df[df['cocoapercent']==df['cocoapercent'].min()]\n",
    "\n",
    "df['cocoapercent'] = df['cocoapercent'].apply(lambda x:x.split(\"%\")[0]).astype('float')"
   ]
  },
  {
   "cell_type": "code",
   "execution_count": 55,
   "id": "c0853c46",
   "metadata": {},
   "outputs": [
    {
     "data": {
      "text/html": [
       "<div>\n",
       "<style scoped>\n",
       "    .dataframe tbody tr th:only-of-type {\n",
       "        vertical-align: middle;\n",
       "    }\n",
       "\n",
       "    .dataframe tbody tr th {\n",
       "        vertical-align: top;\n",
       "    }\n",
       "\n",
       "    .dataframe thead th {\n",
       "        text-align: right;\n",
       "    }\n",
       "</style>\n",
       "<table border=\"1\" class=\"dataframe\">\n",
       "  <thead>\n",
       "    <tr style=\"text-align: right;\">\n",
       "      <th></th>\n",
       "      <th>company</th>\n",
       "      <th>barname</th>\n",
       "      <th>ref</th>\n",
       "      <th>reviewdate</th>\n",
       "      <th>cocoapercent</th>\n",
       "      <th>companylocation</th>\n",
       "      <th>rating</th>\n",
       "      <th>beantype</th>\n",
       "      <th>broadbeanorigin</th>\n",
       "    </tr>\n",
       "  </thead>\n",
       "  <tbody>\n",
       "    <tr>\n",
       "      <th>125</th>\n",
       "      <td>Artisan du Chocolat</td>\n",
       "      <td>Venezuela</td>\n",
       "      <td>486</td>\n",
       "      <td>2010</td>\n",
       "      <td>100.0</td>\n",
       "      <td>U.K.</td>\n",
       "      <td>1.75</td>\n",
       "      <td></td>\n",
       "      <td>Venezuela</td>\n",
       "    </tr>\n",
       "    <tr>\n",
       "      <th>245</th>\n",
       "      <td>Bonnat</td>\n",
       "      <td>One Hundred</td>\n",
       "      <td>81</td>\n",
       "      <td>2006</td>\n",
       "      <td>100.0</td>\n",
       "      <td>France</td>\n",
       "      <td>1.50</td>\n",
       "      <td></td>\n",
       "      <td></td>\n",
       "    </tr>\n",
       "    <tr>\n",
       "      <th>249</th>\n",
       "      <td>Bouga Cacao (Tulicorp)</td>\n",
       "      <td>El Oro, Hacienda de Oro</td>\n",
       "      <td>341</td>\n",
       "      <td>2009</td>\n",
       "      <td>100.0</td>\n",
       "      <td>Ecuador</td>\n",
       "      <td>1.50</td>\n",
       "      <td>Forastero (Arriba)</td>\n",
       "      <td>Ecuador</td>\n",
       "    </tr>\n",
       "    <tr>\n",
       "      <th>330</th>\n",
       "      <td>C-Amaro</td>\n",
       "      <td>Ecuador</td>\n",
       "      <td>1185</td>\n",
       "      <td>2013</td>\n",
       "      <td>100.0</td>\n",
       "      <td>Italy</td>\n",
       "      <td>3.50</td>\n",
       "      <td></td>\n",
       "      <td>Ecuador</td>\n",
       "    </tr>\n",
       "    <tr>\n",
       "      <th>437</th>\n",
       "      <td>Claudio Corallo</td>\n",
       "      <td>Principe</td>\n",
       "      <td>252</td>\n",
       "      <td>2008</td>\n",
       "      <td>100.0</td>\n",
       "      <td>Sao Tome</td>\n",
       "      <td>1.00</td>\n",
       "      <td>Forastero</td>\n",
       "      <td>Sao Tome &amp; Principe</td>\n",
       "    </tr>\n",
       "    <tr>\n",
       "      <th>449</th>\n",
       "      <td>Coppeneur</td>\n",
       "      <td>Ecuador Puristique</td>\n",
       "      <td>817</td>\n",
       "      <td>2012</td>\n",
       "      <td>100.0</td>\n",
       "      <td>Germany</td>\n",
       "      <td>1.50</td>\n",
       "      <td></td>\n",
       "      <td>Ecuador</td>\n",
       "    </tr>\n",
       "    <tr>\n",
       "      <th>557</th>\n",
       "      <td>Domori</td>\n",
       "      <td>IL100, H. San Jose</td>\n",
       "      <td>1109</td>\n",
       "      <td>2013</td>\n",
       "      <td>100.0</td>\n",
       "      <td>Italy</td>\n",
       "      <td>3.00</td>\n",
       "      <td>Criollo</td>\n",
       "      <td>Venezuela</td>\n",
       "    </tr>\n",
       "    <tr>\n",
       "      <th>779</th>\n",
       "      <td>Habitual</td>\n",
       "      <td>one hundred</td>\n",
       "      <td>1205</td>\n",
       "      <td>2014</td>\n",
       "      <td>100.0</td>\n",
       "      <td>Canada</td>\n",
       "      <td>2.00</td>\n",
       "      <td></td>\n",
       "      <td></td>\n",
       "    </tr>\n",
       "    <tr>\n",
       "      <th>828</th>\n",
       "      <td>Hotel Chocolat</td>\n",
       "      <td>Island Growers, 2012, 120hr c.</td>\n",
       "      <td>1113</td>\n",
       "      <td>2013</td>\n",
       "      <td>100.0</td>\n",
       "      <td>U.K.</td>\n",
       "      <td>1.75</td>\n",
       "      <td>Trinitario</td>\n",
       "      <td>St. Lucia</td>\n",
       "    </tr>\n",
       "    <tr>\n",
       "      <th>834</th>\n",
       "      <td>Hotel Chocolat (Coppeneur)</td>\n",
       "      <td>Chanchamayo, Pichanadi, 2012, 60hr c.</td>\n",
       "      <td>1109</td>\n",
       "      <td>2013</td>\n",
       "      <td>100.0</td>\n",
       "      <td>U.K.</td>\n",
       "      <td>2.75</td>\n",
       "      <td></td>\n",
       "      <td>Peru</td>\n",
       "    </tr>\n",
       "    <tr>\n",
       "      <th>835</th>\n",
       "      <td>Hotel Chocolat (Coppeneur)</td>\n",
       "      <td>Los Rios, H. Iara, 2012, 120hr c.</td>\n",
       "      <td>1113</td>\n",
       "      <td>2013</td>\n",
       "      <td>100.0</td>\n",
       "      <td>U.K.</td>\n",
       "      <td>2.50</td>\n",
       "      <td>Forastero (Nacional)</td>\n",
       "      <td>Ecuador</td>\n",
       "    </tr>\n",
       "    <tr>\n",
       "      <th>836</th>\n",
       "      <td>Hotel Chocolat (Coppeneur)</td>\n",
       "      <td>Conacado, 2012, 120hr c.</td>\n",
       "      <td>1113</td>\n",
       "      <td>2013</td>\n",
       "      <td>100.0</td>\n",
       "      <td>U.K.</td>\n",
       "      <td>2.75</td>\n",
       "      <td></td>\n",
       "      <td>Dominican Republic</td>\n",
       "    </tr>\n",
       "    <tr>\n",
       "      <th>1204</th>\n",
       "      <td>Ocho</td>\n",
       "      <td>Sang Yum Coop</td>\n",
       "      <td>1760</td>\n",
       "      <td>2016</td>\n",
       "      <td>100.0</td>\n",
       "      <td>New Zealand</td>\n",
       "      <td>2.75</td>\n",
       "      <td></td>\n",
       "      <td>Samoa</td>\n",
       "    </tr>\n",
       "    <tr>\n",
       "      <th>1251</th>\n",
       "      <td>Pacari</td>\n",
       "      <td>Raw</td>\n",
       "      <td>266</td>\n",
       "      <td>2008</td>\n",
       "      <td>100.0</td>\n",
       "      <td>Ecuador</td>\n",
       "      <td>2.00</td>\n",
       "      <td>Forastero (Arriba)</td>\n",
       "      <td>Ecuador</td>\n",
       "    </tr>\n",
       "    <tr>\n",
       "      <th>1319</th>\n",
       "      <td>Pralus</td>\n",
       "      <td>Sambirano Valley, Le 100%</td>\n",
       "      <td>202</td>\n",
       "      <td>2008</td>\n",
       "      <td>100.0</td>\n",
       "      <td>France</td>\n",
       "      <td>3.00</td>\n",
       "      <td>Criollo</td>\n",
       "      <td>Madagascar</td>\n",
       "    </tr>\n",
       "    <tr>\n",
       "      <th>1411</th>\n",
       "      <td>S.A.I.D.</td>\n",
       "      <td>100 percent</td>\n",
       "      <td>615</td>\n",
       "      <td>2010</td>\n",
       "      <td>100.0</td>\n",
       "      <td>Italy</td>\n",
       "      <td>1.50</td>\n",
       "      <td></td>\n",
       "      <td></td>\n",
       "    </tr>\n",
       "    <tr>\n",
       "      <th>1466</th>\n",
       "      <td>Sirene</td>\n",
       "      <td>Somia Plantation, 2012</td>\n",
       "      <td>1502</td>\n",
       "      <td>2015</td>\n",
       "      <td>100.0</td>\n",
       "      <td>Canada</td>\n",
       "      <td>3.00</td>\n",
       "      <td>Trinitario</td>\n",
       "      <td>Madagascar</td>\n",
       "    </tr>\n",
       "    <tr>\n",
       "      <th>1467</th>\n",
       "      <td>Sirene</td>\n",
       "      <td>Camino Verde P., Balao, Guayas, 2012</td>\n",
       "      <td>1506</td>\n",
       "      <td>2015</td>\n",
       "      <td>100.0</td>\n",
       "      <td>Canada</td>\n",
       "      <td>3.00</td>\n",
       "      <td></td>\n",
       "      <td>Ecuador</td>\n",
       "    </tr>\n",
       "    <tr>\n",
       "      <th>1720</th>\n",
       "      <td>Vintage Plantations (Tulicorp)</td>\n",
       "      <td>Los Rios, Rancho Grande 2004/2007</td>\n",
       "      <td>153</td>\n",
       "      <td>2007</td>\n",
       "      <td>100.0</td>\n",
       "      <td>U.S.A.</td>\n",
       "      <td>2.00</td>\n",
       "      <td>Forastero (Arriba)</td>\n",
       "      <td>Ecuador</td>\n",
       "    </tr>\n",
       "    <tr>\n",
       "      <th>1741</th>\n",
       "      <td>Willie's Cacao</td>\n",
       "      <td>Java, Indonesian Black</td>\n",
       "      <td>1109</td>\n",
       "      <td>2013</td>\n",
       "      <td>100.0</td>\n",
       "      <td>U.K.</td>\n",
       "      <td>2.25</td>\n",
       "      <td></td>\n",
       "      <td>Indonesia</td>\n",
       "    </tr>\n",
       "  </tbody>\n",
       "</table>\n",
       "</div>"
      ],
      "text/plain": [
       "                             company                                barname  \\\n",
       "125              Artisan du Chocolat                              Venezuela   \n",
       "245                           Bonnat                            One Hundred   \n",
       "249           Bouga Cacao (Tulicorp)                El Oro, Hacienda de Oro   \n",
       "330                          C-Amaro                                Ecuador   \n",
       "437                  Claudio Corallo                               Principe   \n",
       "449                        Coppeneur                     Ecuador Puristique   \n",
       "557                           Domori                     IL100, H. San Jose   \n",
       "779                         Habitual                            one hundred   \n",
       "828                   Hotel Chocolat         Island Growers, 2012, 120hr c.   \n",
       "834       Hotel Chocolat (Coppeneur)  Chanchamayo, Pichanadi, 2012, 60hr c.   \n",
       "835       Hotel Chocolat (Coppeneur)      Los Rios, H. Iara, 2012, 120hr c.   \n",
       "836       Hotel Chocolat (Coppeneur)               Conacado, 2012, 120hr c.   \n",
       "1204                            Ocho                          Sang Yum Coop   \n",
       "1251                          Pacari                                    Raw   \n",
       "1319                          Pralus              Sambirano Valley, Le 100%   \n",
       "1411                        S.A.I.D.                            100 percent   \n",
       "1466                          Sirene                 Somia Plantation, 2012   \n",
       "1467                          Sirene   Camino Verde P., Balao, Guayas, 2012   \n",
       "1720  Vintage Plantations (Tulicorp)      Los Rios, Rancho Grande 2004/2007   \n",
       "1741                  Willie's Cacao                 Java, Indonesian Black   \n",
       "\n",
       "       ref  reviewdate  cocoapercent companylocation  rating  \\\n",
       "125    486        2010         100.0            U.K.    1.75   \n",
       "245     81        2006         100.0          France    1.50   \n",
       "249    341        2009         100.0         Ecuador    1.50   \n",
       "330   1185        2013         100.0           Italy    3.50   \n",
       "437    252        2008         100.0        Sao Tome    1.00   \n",
       "449    817        2012         100.0         Germany    1.50   \n",
       "557   1109        2013         100.0           Italy    3.00   \n",
       "779   1205        2014         100.0          Canada    2.00   \n",
       "828   1113        2013         100.0            U.K.    1.75   \n",
       "834   1109        2013         100.0            U.K.    2.75   \n",
       "835   1113        2013         100.0            U.K.    2.50   \n",
       "836   1113        2013         100.0            U.K.    2.75   \n",
       "1204  1760        2016         100.0     New Zealand    2.75   \n",
       "1251   266        2008         100.0         Ecuador    2.00   \n",
       "1319   202        2008         100.0          France    3.00   \n",
       "1411   615        2010         100.0           Italy    1.50   \n",
       "1466  1502        2015         100.0          Canada    3.00   \n",
       "1467  1506        2015         100.0          Canada    3.00   \n",
       "1720   153        2007         100.0          U.S.A.    2.00   \n",
       "1741  1109        2013         100.0            U.K.    2.25   \n",
       "\n",
       "                  beantype      broadbeanorigin  \n",
       "125                                   Venezuela  \n",
       "245                                              \n",
       "249     Forastero (Arriba)              Ecuador  \n",
       "330                                     Ecuador  \n",
       "437              Forastero  Sao Tome & Principe  \n",
       "449                                     Ecuador  \n",
       "557                Criollo            Venezuela  \n",
       "779                                              \n",
       "828             Trinitario            St. Lucia  \n",
       "834                                        Peru  \n",
       "835   Forastero (Nacional)              Ecuador  \n",
       "836                          Dominican Republic  \n",
       "1204                                      Samoa  \n",
       "1251    Forastero (Arriba)              Ecuador  \n",
       "1319               Criollo           Madagascar  \n",
       "1411                                             \n",
       "1466            Trinitario           Madagascar  \n",
       "1467                                    Ecuador  \n",
       "1720    Forastero (Arriba)              Ecuador  \n",
       "1741                                  Indonesia  "
      ]
     },
     "execution_count": 55,
     "metadata": {},
     "output_type": "execute_result"
    }
   ],
   "source": [
    "# company with highest cocoa percentage\n",
    "\n",
    "df[df['cocoapercent']==df['cocoapercent'].max()]"
   ]
  },
  {
   "cell_type": "code",
   "execution_count": 56,
   "id": "729ad878",
   "metadata": {},
   "outputs": [
    {
     "data": {
      "text/html": [
       "<div>\n",
       "<style scoped>\n",
       "    .dataframe tbody tr th:only-of-type {\n",
       "        vertical-align: middle;\n",
       "    }\n",
       "\n",
       "    .dataframe tbody tr th {\n",
       "        vertical-align: top;\n",
       "    }\n",
       "\n",
       "    .dataframe thead th {\n",
       "        text-align: right;\n",
       "    }\n",
       "</style>\n",
       "<table border=\"1\" class=\"dataframe\">\n",
       "  <thead>\n",
       "    <tr style=\"text-align: right;\">\n",
       "      <th></th>\n",
       "      <th>company</th>\n",
       "      <th>barname</th>\n",
       "      <th>ref</th>\n",
       "      <th>reviewdate</th>\n",
       "      <th>cocoapercent</th>\n",
       "      <th>companylocation</th>\n",
       "      <th>rating</th>\n",
       "      <th>beantype</th>\n",
       "      <th>broadbeanorigin</th>\n",
       "    </tr>\n",
       "  </thead>\n",
       "  <tbody>\n",
       "    <tr>\n",
       "      <th>429</th>\n",
       "      <td>Chokolat Elot (Girard)</td>\n",
       "      <td>Guadeloupe</td>\n",
       "      <td>1149</td>\n",
       "      <td>2013</td>\n",
       "      <td>42.0</td>\n",
       "      <td>Martinique</td>\n",
       "      <td>2.75</td>\n",
       "      <td></td>\n",
       "      <td>Martinique</td>\n",
       "    </tr>\n",
       "  </tbody>\n",
       "</table>\n",
       "</div>"
      ],
      "text/plain": [
       "                    company     barname   ref  reviewdate  cocoapercent  \\\n",
       "429  Chokolat Elot (Girard)  Guadeloupe  1149        2013          42.0   \n",
       "\n",
       "    companylocation  rating beantype broadbeanorigin  \n",
       "429      Martinique    2.75               Martinique  "
      ]
     },
     "execution_count": 56,
     "metadata": {},
     "output_type": "execute_result"
    }
   ],
   "source": [
    "# company with lowest cocoa percentage\n",
    "\n",
    "df[df['cocoapercent']==df['cocoapercent'].min()]"
   ]
  },
  {
   "cell_type": "code",
   "execution_count": 47,
   "id": "1fe44a60",
   "metadata": {},
   "outputs": [
    {
     "data": {
      "text/plain": [
       "U.S.A.    764\n",
       "France    156\n",
       "Canada    125\n",
       "U.K.       96\n",
       "Italy      63\n",
       "Name: companylocation, dtype: int64"
      ]
     },
     "execution_count": 47,
     "metadata": {},
     "output_type": "execute_result"
    }
   ],
   "source": [
    "df['companylocation'].value_counts().head()"
   ]
  },
  {
   "cell_type": "code",
   "execution_count": 59,
   "id": "a3c00c1e",
   "metadata": {},
   "outputs": [],
   "source": [
    "df1 = df[df['cocoapercent']==df['cocoapercent'].max()]"
   ]
  },
  {
   "cell_type": "code",
   "execution_count": 78,
   "id": "393dbb58",
   "metadata": {},
   "outputs": [
    {
     "data": {
      "image/png": "[encoded data removed]",
      "text/plain": [
       "<Figure size 1440x307.44 with 1 Axes>"
      ]
     },
     "metadata": {},
     "output_type": "display_data"
    }
   ],
   "source": [
    "# plot of country locations having highest cocoa percentage\n",
    "\n",
    "sns.countplot(x='companylocation', data=df1)\n",
    "sns.set(rc={'figure.figsize':(10,4.27)})\n",
    "# plt.figure(figsize=(40,30))"
   ]
  },
  {
   "cell_type": "code",
   "execution_count": 82,
   "id": "8a78c3c8",
   "metadata": {},
   "outputs": [
    {
     "data": {
      "image/png": "[encoded data removed]",
      "text/plain": [
       "<Figure size 720x307.44 with 1 Axes>"
      ]
     },
     "metadata": {},
     "output_type": "display_data"
    }
   ],
   "source": [
    "sns.countplot(x='rating', data=df1)\n",
    "sns.set(rc={'figure.figsize':(10,4.27)})"
   ]
  },
  {
   "cell_type": "code",
   "execution_count": 84,
   "id": "09512e67",
   "metadata": {},
   "outputs": [
    {
     "data": {
      "text/html": [
       "<div>\n",
       "<style scoped>\n",
       "    .dataframe tbody tr th:only-of-type {\n",
       "        vertical-align: middle;\n",
       "    }\n",
       "\n",
       "    .dataframe tbody tr th {\n",
       "        vertical-align: top;\n",
       "    }\n",
       "\n",
       "    .dataframe thead th {\n",
       "        text-align: right;\n",
       "    }\n",
       "</style>\n",
       "<table border=\"1\" class=\"dataframe\">\n",
       "  <thead>\n",
       "    <tr style=\"text-align: right;\">\n",
       "      <th></th>\n",
       "      <th>ref</th>\n",
       "      <th>reviewdate</th>\n",
       "      <th>cocoapercent</th>\n",
       "      <th>rating</th>\n",
       "    </tr>\n",
       "  </thead>\n",
       "  <tbody>\n",
       "    <tr>\n",
       "      <th>count</th>\n",
       "      <td>20.000000</td>\n",
       "      <td>20.000000</td>\n",
       "      <td>20.0</td>\n",
       "      <td>20.00000</td>\n",
       "    </tr>\n",
       "    <tr>\n",
       "      <th>mean</th>\n",
       "      <td>851.850000</td>\n",
       "      <td>2011.450000</td>\n",
       "      <td>100.0</td>\n",
       "      <td>2.25000</td>\n",
       "    </tr>\n",
       "    <tr>\n",
       "      <th>std</th>\n",
       "      <td>511.658632</td>\n",
       "      <td>2.946452</td>\n",
       "      <td>0.0</td>\n",
       "      <td>0.69301</td>\n",
       "    </tr>\n",
       "    <tr>\n",
       "      <th>min</th>\n",
       "      <td>81.000000</td>\n",
       "      <td>2006.000000</td>\n",
       "      <td>100.0</td>\n",
       "      <td>1.00000</td>\n",
       "    </tr>\n",
       "    <tr>\n",
       "      <th>25%</th>\n",
       "      <td>322.250000</td>\n",
       "      <td>2008.750000</td>\n",
       "      <td>100.0</td>\n",
       "      <td>1.68750</td>\n",
       "    </tr>\n",
       "    <tr>\n",
       "      <th>50%</th>\n",
       "      <td>1109.000000</td>\n",
       "      <td>2013.000000</td>\n",
       "      <td>100.0</td>\n",
       "      <td>2.12500</td>\n",
       "    </tr>\n",
       "    <tr>\n",
       "      <th>75%</th>\n",
       "      <td>1131.000000</td>\n",
       "      <td>2013.000000</td>\n",
       "      <td>100.0</td>\n",
       "      <td>2.81250</td>\n",
       "    </tr>\n",
       "    <tr>\n",
       "      <th>max</th>\n",
       "      <td>1760.000000</td>\n",
       "      <td>2016.000000</td>\n",
       "      <td>100.0</td>\n",
       "      <td>3.50000</td>\n",
       "    </tr>\n",
       "  </tbody>\n",
       "</table>\n",
       "</div>"
      ],
      "text/plain": [
       "               ref   reviewdate  cocoapercent    rating\n",
       "count    20.000000    20.000000          20.0  20.00000\n",
       "mean    851.850000  2011.450000         100.0   2.25000\n",
       "std     511.658632     2.946452           0.0   0.69301\n",
       "min      81.000000  2006.000000         100.0   1.00000\n",
       "25%     322.250000  2008.750000         100.0   1.68750\n",
       "50%    1109.000000  2013.000000         100.0   2.12500\n",
       "75%    1131.000000  2013.000000         100.0   2.81250\n",
       "max    1760.000000  2016.000000         100.0   3.50000"
      ]
     },
     "execution_count": 84,
     "metadata": {},
     "output_type": "execute_result"
    }
   ],
   "source": [
    "df1.describe()"
   ]
  },
  {
   "cell_type": "markdown",
   "id": "d9f8b182",
   "metadata": {},
   "source": [
    "# Rating analysis"
   ]
  },
  {
   "cell_type": "code",
   "execution_count": 130,
   "id": "ea623015",
   "metadata": {},
   "outputs": [],
   "source": [
    "df2 = pd.DataFrame(df.groupby('companylocation').rating.agg('max')).reset_index()"
   ]
  },
  {
   "cell_type": "code",
   "execution_count": 131,
   "id": "8b7b5f2b",
   "metadata": {},
   "outputs": [
    {
     "data": {
      "text/html": [
       "<div>\n",
       "<style scoped>\n",
       "    .dataframe tbody tr th:only-of-type {\n",
       "        vertical-align: middle;\n",
       "    }\n",
       "\n",
       "    .dataframe tbody tr th {\n",
       "        vertical-align: top;\n",
       "    }\n",
       "\n",
       "    .dataframe thead th {\n",
       "        text-align: right;\n",
       "    }\n",
       "</style>\n",
       "<table border=\"1\" class=\"dataframe\">\n",
       "  <thead>\n",
       "    <tr style=\"text-align: right;\">\n",
       "      <th></th>\n",
       "      <th>companylocation</th>\n",
       "      <th>rating</th>\n",
       "    </tr>\n",
       "  </thead>\n",
       "  <tbody>\n",
       "    <tr>\n",
       "      <th>0</th>\n",
       "      <td>Amsterdam</td>\n",
       "      <td>3.75</td>\n",
       "    </tr>\n",
       "    <tr>\n",
       "      <th>1</th>\n",
       "      <td>Argentina</td>\n",
       "      <td>3.75</td>\n",
       "    </tr>\n",
       "    <tr>\n",
       "      <th>2</th>\n",
       "      <td>Australia</td>\n",
       "      <td>4.00</td>\n",
       "    </tr>\n",
       "    <tr>\n",
       "      <th>3</th>\n",
       "      <td>Austria</td>\n",
       "      <td>3.75</td>\n",
       "    </tr>\n",
       "    <tr>\n",
       "      <th>4</th>\n",
       "      <td>Belgium</td>\n",
       "      <td>4.00</td>\n",
       "    </tr>\n",
       "  </tbody>\n",
       "</table>\n",
       "</div>"
      ],
      "text/plain": [
       "  companylocation  rating\n",
       "0       Amsterdam    3.75\n",
       "1       Argentina    3.75\n",
       "2       Australia    4.00\n",
       "3         Austria    3.75\n",
       "4         Belgium    4.00"
      ]
     },
     "execution_count": 131,
     "metadata": {},
     "output_type": "execute_result"
    }
   ],
   "source": [
    "df2.head()"
   ]
  },
  {
   "cell_type": "code",
   "execution_count": 136,
   "id": "177c5c3c",
   "metadata": {},
   "outputs": [],
   "source": [
    "# location with highest average rating\n",
    "\n",
    "df3 = pd.DataFrame(df.groupby('companylocation').mean()['rating'].sort_values(ascending=False)).reset_index()"
   ]
  },
  {
   "cell_type": "code",
   "execution_count": 137,
   "id": "9c6d400a",
   "metadata": {},
   "outputs": [
    {
     "data": {
      "text/html": [
       "<div>\n",
       "<style scoped>\n",
       "    .dataframe tbody tr th:only-of-type {\n",
       "        vertical-align: middle;\n",
       "    }\n",
       "\n",
       "    .dataframe tbody tr th {\n",
       "        vertical-align: top;\n",
       "    }\n",
       "\n",
       "    .dataframe thead th {\n",
       "        text-align: right;\n",
       "    }\n",
       "</style>\n",
       "<table border=\"1\" class=\"dataframe\">\n",
       "  <thead>\n",
       "    <tr style=\"text-align: right;\">\n",
       "      <th></th>\n",
       "      <th>companylocation</th>\n",
       "      <th>rating</th>\n",
       "    </tr>\n",
       "  </thead>\n",
       "  <tbody>\n",
       "    <tr>\n",
       "      <th>0</th>\n",
       "      <td>Chile</td>\n",
       "      <td>3.750000</td>\n",
       "    </tr>\n",
       "    <tr>\n",
       "      <th>1</th>\n",
       "      <td>Amsterdam</td>\n",
       "      <td>3.500000</td>\n",
       "    </tr>\n",
       "    <tr>\n",
       "      <th>2</th>\n",
       "      <td>Netherlands</td>\n",
       "      <td>3.500000</td>\n",
       "    </tr>\n",
       "    <tr>\n",
       "      <th>3</th>\n",
       "      <td>Philippines</td>\n",
       "      <td>3.500000</td>\n",
       "    </tr>\n",
       "    <tr>\n",
       "      <th>4</th>\n",
       "      <td>Iceland</td>\n",
       "      <td>3.416667</td>\n",
       "    </tr>\n",
       "  </tbody>\n",
       "</table>\n",
       "</div>"
      ],
      "text/plain": [
       "  companylocation    rating\n",
       "0           Chile  3.750000\n",
       "1       Amsterdam  3.500000\n",
       "2     Netherlands  3.500000\n",
       "3     Philippines  3.500000\n",
       "4         Iceland  3.416667"
      ]
     },
     "execution_count": 137,
     "metadata": {},
     "output_type": "execute_result"
    }
   ],
   "source": [
    "df3.head()"
   ]
  },
  {
   "cell_type": "markdown",
   "id": "d57adf1c",
   "metadata": {},
   "source": [
    "# Relation between cocoa percent and rating"
   ]
  },
  {
   "cell_type": "code",
   "execution_count": 139,
   "id": "228e69af",
   "metadata": {},
   "outputs": [
    {
     "data": {
      "text/plain": [
       "[<matplotlib.lines.Line2D at 0x15fa5b9deb0>]"
      ]
     },
     "execution_count": 139,
     "metadata": {},
     "output_type": "execute_result"
    },
    {
     "data": {
      "image/png": "[encoded data removed]",
      "text/plain": [
       "<Figure size 720x307.44 with 1 Axes>"
      ]
     },
     "metadata": {},
     "output_type": "display_data"
    }
   ],
   "source": [
    "plt.plot(df['cocoapercent'], df['rating'])"
   ]
  },
  {
   "cell_type": "code",
   "execution_count": null,
   "id": "14821070",
   "metadata": {},
   "outputs": [],
   "source": []
  }
 ],
 "metadata": {
  "kernelspec": {
   "display_name": "Python 3",
   "language": "python",
   "name": "python3"
  },
  "language_info": {
   "codemirror_mode": {
    "name": "ipython",
    "version": 3
   },
   "file_extension": ".py",
   "mimetype": "text/x-python",
   "name": "python",
   "nbconvert_exporter": "python",
   "pygments_lexer": "ipython3",
   "version": "3.8.8"
  }
 },
 "nbformat": 4,
 "nbformat_minor": 5
}
